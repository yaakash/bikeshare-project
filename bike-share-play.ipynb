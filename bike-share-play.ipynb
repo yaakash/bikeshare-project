{
 "cells": [
  {
   "cell_type": "code",
   "execution_count": 1,
   "metadata": {},
   "outputs": [],
   "source": [
    "import pandas as pd\n",
    "import numpy as np\n",
    "import time"
   ]
  },
  {
   "cell_type": "markdown",
   "metadata": {},
   "source": [
    "### Loading Data"
   ]
  },
  {
   "cell_type": "code",
   "execution_count": 2,
   "metadata": {},
   "outputs": [
    {
     "name": "stdout",
     "output_type": "stream",
     "text": [
      "Loading Data ....\n",
      "Data Loaded ! \n",
      "\n"
     ]
    },
    {
     "data": {
      "text/html": [
       "<div>\n",
       "<style scoped>\n",
       "    .dataframe tbody tr th:only-of-type {\n",
       "        vertical-align: middle;\n",
       "    }\n",
       "\n",
       "    .dataframe tbody tr th {\n",
       "        vertical-align: top;\n",
       "    }\n",
       "\n",
       "    .dataframe thead th {\n",
       "        text-align: right;\n",
       "    }\n",
       "</style>\n",
       "<table border=\"1\" class=\"dataframe\">\n",
       "  <thead>\n",
       "    <tr style=\"text-align: right;\">\n",
       "      <th></th>\n",
       "      <th>Unnamed: 0</th>\n",
       "      <th>Start Time</th>\n",
       "      <th>End Time</th>\n",
       "      <th>Trip Duration</th>\n",
       "      <th>Start Station</th>\n",
       "      <th>End Station</th>\n",
       "      <th>User Type</th>\n",
       "      <th>Gender</th>\n",
       "      <th>Birth Year</th>\n",
       "      <th>month</th>\n",
       "      <th>weekday</th>\n",
       "      <th>hour</th>\n",
       "    </tr>\n",
       "  </thead>\n",
       "  <tbody>\n",
       "    <tr>\n",
       "      <th>0</th>\n",
       "      <td>5688089</td>\n",
       "      <td>2017-06-11 14:55:05</td>\n",
       "      <td>2017-06-11 15:08:21</td>\n",
       "      <td>795</td>\n",
       "      <td>Suffolk St &amp; Stanton St</td>\n",
       "      <td>W Broadway &amp; Spring St</td>\n",
       "      <td>Subscriber</td>\n",
       "      <td>Male</td>\n",
       "      <td>1998.0</td>\n",
       "      <td>june</td>\n",
       "      <td>sunday</td>\n",
       "      <td>14</td>\n",
       "    </tr>\n",
       "    <tr>\n",
       "      <th>1</th>\n",
       "      <td>4096714</td>\n",
       "      <td>2017-05-11 15:30:11</td>\n",
       "      <td>2017-05-11 15:41:43</td>\n",
       "      <td>692</td>\n",
       "      <td>Lexington Ave &amp; E 63 St</td>\n",
       "      <td>1 Ave &amp; E 78 St</td>\n",
       "      <td>Subscriber</td>\n",
       "      <td>Male</td>\n",
       "      <td>1981.0</td>\n",
       "      <td>may</td>\n",
       "      <td>thursday</td>\n",
       "      <td>15</td>\n",
       "    </tr>\n",
       "    <tr>\n",
       "      <th>2</th>\n",
       "      <td>2173887</td>\n",
       "      <td>2017-03-29 13:26:26</td>\n",
       "      <td>2017-03-29 13:48:31</td>\n",
       "      <td>1325</td>\n",
       "      <td>1 Pl &amp; Clinton St</td>\n",
       "      <td>Henry St &amp; Degraw St</td>\n",
       "      <td>Subscriber</td>\n",
       "      <td>Male</td>\n",
       "      <td>1987.0</td>\n",
       "      <td>march</td>\n",
       "      <td>wednesday</td>\n",
       "      <td>13</td>\n",
       "    </tr>\n",
       "    <tr>\n",
       "      <th>3</th>\n",
       "      <td>3945638</td>\n",
       "      <td>2017-05-08 19:47:18</td>\n",
       "      <td>2017-05-08 19:59:01</td>\n",
       "      <td>703</td>\n",
       "      <td>Barrow St &amp; Hudson St</td>\n",
       "      <td>W 20 St &amp; 8 Ave</td>\n",
       "      <td>Subscriber</td>\n",
       "      <td>Female</td>\n",
       "      <td>1986.0</td>\n",
       "      <td>may</td>\n",
       "      <td>monday</td>\n",
       "      <td>19</td>\n",
       "    </tr>\n",
       "    <tr>\n",
       "      <th>4</th>\n",
       "      <td>6208972</td>\n",
       "      <td>2017-06-21 07:49:16</td>\n",
       "      <td>2017-06-21 07:54:46</td>\n",
       "      <td>329</td>\n",
       "      <td>1 Ave &amp; E 44 St</td>\n",
       "      <td>E 53 St &amp; 3 Ave</td>\n",
       "      <td>Subscriber</td>\n",
       "      <td>Male</td>\n",
       "      <td>1992.0</td>\n",
       "      <td>june</td>\n",
       "      <td>wednesday</td>\n",
       "      <td>7</td>\n",
       "    </tr>\n",
       "  </tbody>\n",
       "</table>\n",
       "</div>"
      ],
      "text/plain": [
       "   Unnamed: 0          Start Time            End Time  Trip Duration  \\\n",
       "0     5688089 2017-06-11 14:55:05 2017-06-11 15:08:21            795   \n",
       "1     4096714 2017-05-11 15:30:11 2017-05-11 15:41:43            692   \n",
       "2     2173887 2017-03-29 13:26:26 2017-03-29 13:48:31           1325   \n",
       "3     3945638 2017-05-08 19:47:18 2017-05-08 19:59:01            703   \n",
       "4     6208972 2017-06-21 07:49:16 2017-06-21 07:54:46            329   \n",
       "\n",
       "             Start Station             End Station   User Type  Gender  \\\n",
       "0  Suffolk St & Stanton St  W Broadway & Spring St  Subscriber    Male   \n",
       "1  Lexington Ave & E 63 St         1 Ave & E 78 St  Subscriber    Male   \n",
       "2        1 Pl & Clinton St    Henry St & Degraw St  Subscriber    Male   \n",
       "3    Barrow St & Hudson St         W 20 St & 8 Ave  Subscriber  Female   \n",
       "4          1 Ave & E 44 St         E 53 St & 3 Ave  Subscriber    Male   \n",
       "\n",
       "   Birth Year  month    weekday  hour  \n",
       "0      1998.0   june     sunday    14  \n",
       "1      1981.0    may   thursday    15  \n",
       "2      1987.0  march  wednesday    13  \n",
       "3      1986.0    may     monday    19  \n",
       "4      1992.0   june  wednesday     7  "
      ]
     },
     "execution_count": 2,
     "metadata": {},
     "output_type": "execute_result"
    }
   ],
   "source": [
    "print('Loading Data ....')\n",
    "df = pd.read_csv('./data/new_york_city.csv')\n",
    "\n",
    "# convert the Start Time column to datetime\n",
    "df['Start Time'] = pd.to_datetime(df['Start Time'])\n",
    "df['End Time'] = pd.to_datetime(df['End Time'])\n",
    "\n",
    "# extract month and day of week from Start Time to create new columns\n",
    "df['month'] = df['Start Time'].dt.strftime('%B')\n",
    "df['month'] = df['month'].str.lower()\n",
    "\n",
    "df['weekday'] = df['Start Time'].dt.strftime('%A')\n",
    "df['weekday'] = df['weekday'].str.lower()\n",
    "\n",
    "df['hour'] = df['Start Time'].dt.hour\n",
    "\n",
    "print('Data Loaded !', '\\n')\n",
    "df.head()"
   ]
  },
  {
   "cell_type": "code",
   "execution_count": null,
   "metadata": {},
   "outputs": [],
   "source": [
    "def show_data(df):\n",
    "    show_data_option = input('Care to see some raw data from city data? (y/n): ').strip().lower()\n",
    "    if show_data_option in ('yes', 'y'):\n",
    "        for i in range(5, df.shape[0], 5):\n",
    "            print(df.iloc[i-5:i])\n",
    "            more_data = input('Want to see more data (y/n): ').strip().lower()\n",
    "            if more_data in ('no', 'n'): break\n",
    "\n",
    "show_data(df)"
   ]
  },
  {
   "cell_type": "markdown",
   "metadata": {},
   "source": [
    "### Removing NaN's"
   ]
  },
  {
   "cell_type": "code",
   "execution_count": 10,
   "metadata": {},
   "outputs": [
    {
     "name": "stdout",
     "output_type": "stream",
     "text": [
      "Before DF shape  (300000, 12)\n"
     ]
    }
   ],
   "source": [
    "#removing NaN's value\n",
    "def removing_nan(df):\n",
    "#     df_without_nan =df.dropna(axis=0)\n",
    "    df.dropna(axis=0, inplace=True)\n",
    "    print(\"Row Counts without nan's\", df.shape[0])\n",
    "\n",
    "print('Before DF shape ', df.shape)"
   ]
  },
  {
   "cell_type": "code",
   "execution_count": 11,
   "metadata": {},
   "outputs": [
    {
     "name": "stdout",
     "output_type": "stream",
     "text": [
      "Row Counts without nan's 270102\n",
      "After NaN removal shape  (270102, 12)\n"
     ]
    }
   ],
   "source": [
    "removing_nan(df)\n",
    "print('After NaN removal shape ', df.shape)"
   ]
  },
  {
   "cell_type": "markdown",
   "metadata": {},
   "source": [
    "### Filtering by month & day"
   ]
  },
  {
   "cell_type": "code",
   "execution_count": null,
   "metadata": {},
   "outputs": [],
   "source": [
    "#filtering\n",
    "month, weekday = 'february', 'tuesday'\n",
    "\n",
    "df = df[df['month']==month]\n",
    "df = df[df['weekday']==weekday]\n",
    "\n",
    "print(df.shape)\n",
    "df.head()"
   ]
  },
  {
   "cell_type": "markdown",
   "metadata": {},
   "source": [
    "### User Stats"
   ]
  },
  {
   "cell_type": "code",
   "execution_count": 13,
   "metadata": {},
   "outputs": [],
   "source": [
    "def user_stats(df):\n",
    "    \"\"\"Displays statistics on bikeshare users.\"\"\"\n",
    "\n",
    "    print('\\nCalculating User Stats...\\n')\n",
    "    start_time = time.time()\n",
    "\n",
    "    # Display counts of user types\n",
    "    print('The No. of Users & User types riding are: ')\n",
    "    print(df['User Type'].value_counts(), '\\n')\n",
    "\n",
    "    # Display counts of gender\n",
    "    if 'Gender' in df.columns:\n",
    "        print('Gender Counts are: \\n',\n",
    "              df['Gender'].value_counts())\n",
    "    else:\n",
    "        print('No Gender Data available')\n",
    "\n",
    "    print()\n",
    "    # Display earliest, most recent, and most common year of birth\n",
    "    if 'Birth Year' in df.columns:\n",
    "        print('First ride taken can seen back to year: ',\n",
    "              int(df['Birth Year'].min()), '\\n')\n",
    "\n",
    "        print('Most updated ride taken on year: ',\n",
    "              int(df['Birth Year'].max()), '\\n')\n",
    "\n",
    "        print('Riders riding with common birth years: ',\n",
    "              tuple(map(int, df['Birth Year'].mode())),\n",
    "              '\\n')\n",
    "\n",
    "    else:\n",
    "        print('No birth year data available')\n",
    "\n",
    "    print(\"\\nThis took %s seconds.\" % (time.time() - start_time))\n",
    "    print('-' * 40)"
   ]
  },
  {
   "cell_type": "code",
   "execution_count": 14,
   "metadata": {},
   "outputs": [
    {
     "name": "stdout",
     "output_type": "stream",
     "text": [
      "\n",
      "Calculating User Stats...\n",
      "\n",
      "The No. of Users & User types riding are: \n",
      "Subscriber    265737\n",
      "Customer        4365\n",
      "Name: User Type, dtype: int64 \n",
      "\n",
      "Gender Counts are: \n",
      " Male      203535\n",
      "Female     66567\n",
      "Name: Gender, dtype: int64\n",
      "\n",
      "First ride taken can seen back to year:  1886 \n",
      "\n",
      "Most updated ride taken on year:  2001 \n",
      "\n",
      "Riders riding with common birth years:  (1989,) \n",
      "\n",
      "\n",
      "This took 0.22958159446716309 seconds.\n",
      "----------------------------------------\n"
     ]
    }
   ],
   "source": [
    "user_stats(df)"
   ]
  },
  {
   "cell_type": "markdown",
   "metadata": {},
   "source": [
    "### Trip Duration stats"
   ]
  },
  {
   "cell_type": "code",
   "execution_count": null,
   "metadata": {},
   "outputs": [],
   "source": [
    "# display total travel time\n",
    "tot_travel_time = df['Trip Duration'].sum()\n",
    "print('Total Travel time of all riders took nearly: {:.1f} hrs'.format(\n",
    "      tot_travel_time / 60))\n",
    "\n",
    "# display mean travel time\n",
    "avg_trav_time = df['Trip Duration'].mean()\n",
    "print('The Average Ride time for each person is: {:.1f} hrs'.format(avg_trav_time / 60))"
   ]
  },
  {
   "cell_type": "markdown",
   "metadata": {},
   "source": [
    "### Times of Travel Stats"
   ]
  },
  {
   "cell_type": "code",
   "execution_count": 15,
   "metadata": {},
   "outputs": [],
   "source": [
    "def time_stats(df):\n",
    "    \"\"\"Displays statistics on the most frequent times of travel.\"\"\"\n",
    "\n",
    "    print('\\nCalculating The Most Frequent Times of Travel...\\n')\n",
    "    start_time = time.time()\n",
    "\n",
    "    # display the most common month\n",
    "    print('Riders mostly seen to ride in months: ',\n",
    "          df['month'].mode().values)\n",
    "\n",
    "    # display the most common day of week\n",
    "    print('Riders rides mostly on weekdays: ',\n",
    "          df['weekday'].mode().values)\n",
    "\n",
    "    # display the most common start hour\n",
    "    print('Common riding hour:',\n",
    "          df['hour'].mode().values)\n",
    "\n",
    "    print(\"\\nThis took %s seconds.\" % (time.time() - start_time))\n",
    "    print('-' * 40)"
   ]
  },
  {
   "cell_type": "code",
   "execution_count": 16,
   "metadata": {},
   "outputs": [
    {
     "name": "stdout",
     "output_type": "stream",
     "text": [
      "\n",
      "Calculating The Most Frequent Times of Travel...\n",
      "\n",
      "Riders mostly seen to ride in months:  ['june']\n",
      "Riders rides mostly on weekdays:  ['wednesday']\n",
      "Common riding hour: [17]\n",
      "\n",
      "This took 0.15843677520751953 seconds.\n",
      "----------------------------------------\n"
     ]
    }
   ],
   "source": [
    "time_stats(df)"
   ]
  },
  {
   "cell_type": "markdown",
   "metadata": {},
   "source": [
    "### Station stats"
   ]
  },
  {
   "cell_type": "code",
   "execution_count": 19,
   "metadata": {},
   "outputs": [
    {
     "name": "stdout",
     "output_type": "stream",
     "text": [
      "Most popular Start Station is: \n",
      " ['Pershing Square North'] \n",
      "\n",
      "Most popular rider end in station: \n",
      " ['Pershing Square North'] \n",
      "\n",
      "Frequent combination of Start and End Destination: \n",
      "  - Start point: E 7 St & Avenue A \n",
      "  - End point: Cooper Square & E 7 St \n",
      "  - count: 166\n"
     ]
    }
   ],
   "source": [
    "# display most commonly used start station\n",
    "print('Most popular Start Station is: \\n',\n",
    "      df['Start Station'].mode().values, '\\n')\n",
    "\n",
    "# display most commonly used end station\n",
    "print('Most popular rider end in station: \\n',\n",
    "      df['End Station'].mode().values, '\\n')\n",
    "\n",
    "# # # display most frequent combination of start station and end station trip\n",
    "# # print('Frequent Start and End Station, respectively: \\n',\n",
    "# #       tuple(df[['Start Station', 'End Station']].mode().values[0]))\n",
    "freq_pair_dest = df.groupby(['Start Station', 'End Station']).size().sort_values(ascending=False).reset_index().values[0]\n",
    "print('Frequent combination of Start and End Destination: \\n',\n",
    "      ' - Start point: {} \\n  - End point: {} \\n  - count: {}'.format(*freq_pair_dest))"
   ]
  },
  {
   "cell_type": "code",
   "execution_count": null,
   "metadata": {},
   "outputs": [],
   "source": [
    "df_chicago = pd.read_csv('./bikeshare-project/chicago.csv')\n",
    "df_ny = pd.read_csv('./bikeshare-project/new_york_city.csv')\n",
    "df_wash = pd.read_csv('./bikeshare-project/washington.csv')"
   ]
  },
  {
   "cell_type": "code",
   "execution_count": null,
   "metadata": {},
   "outputs": [],
   "source": [
    "print('Prev: ', df_ny.isnull().any(axis=1), df_ny.shape)\n",
    "df_without_nan = df_ny.dropna(axis=0)\n",
    "print('After nan removal: ', df_without_nan.isnull().any().sum(), df_without_nan.shape)"
   ]
  },
  {
   "cell_type": "code",
   "execution_count": null,
   "metadata": {},
   "outputs": [],
   "source": [
    "print('rows count with nan\\'s: ', df_chicago.shape[0])\n",
    "print('total nan counts: ', df_chicago.isnull().any(axis=1).sum())\n",
    "print('without nan, rows count MUST be: ', df.shape[0] - df_chicago.isnull().any(axis=1).sum())\n",
    "\n",
    "df_nan_removed = df_chicago.dropna(axis=0)\n",
    "print('without nan, rows CAME to be: ', df_nan_removed.shape[0])"
   ]
  },
  {
   "cell_type": "code",
   "execution_count": null,
   "metadata": {},
   "outputs": [],
   "source": [
    "df_chicago[['Start Station', 'End Station']].mode().values"
   ]
  }
 ],
 "metadata": {
  "kernelspec": {
   "display_name": "Python 3",
   "language": "python",
   "name": "python3"
  },
  "language_info": {
   "codemirror_mode": {
    "name": "ipython",
    "version": 3
   },
   "file_extension": ".py",
   "mimetype": "text/x-python",
   "name": "python",
   "nbconvert_exporter": "python",
   "pygments_lexer": "ipython3",
   "version": "3.6.5"
  }
 },
 "nbformat": 4,
 "nbformat_minor": 2
}
